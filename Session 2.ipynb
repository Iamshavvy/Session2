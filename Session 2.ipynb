{
 "cells": [
  {
   "cell_type": "code",
   "execution_count": 1,
   "id": "81cbf03a",
   "metadata": {},
   "outputs": [],
   "source": [
    "a = \"This is python class.\"\n",
    "b = \"This is python class.\""
   ]
  },
  {
   "cell_type": "code",
   "execution_count": 2,
   "id": "5a6c1e2e",
   "metadata": {},
   "outputs": [
    {
     "data": {
      "text/plain": [
       "True"
      ]
     },
     "execution_count": 2,
     "metadata": {},
     "output_type": "execute_result"
    }
   ],
   "source": [
    "a == b"
   ]
  },
  {
   "cell_type": "code",
   "execution_count": 3,
   "id": "e7f019b5",
   "metadata": {},
   "outputs": [
    {
     "data": {
      "text/plain": [
       "False"
      ]
     },
     "execution_count": 3,
     "metadata": {},
     "output_type": "execute_result"
    }
   ],
   "source": [
    "a is b"
   ]
  },
  {
   "cell_type": "code",
   "execution_count": 4,
   "id": "66a8d38d",
   "metadata": {},
   "outputs": [],
   "source": [
    "c = a"
   ]
  },
  {
   "cell_type": "code",
   "execution_count": 5,
   "id": "82579630",
   "metadata": {},
   "outputs": [
    {
     "data": {
      "text/plain": [
       "True"
      ]
     },
     "execution_count": 5,
     "metadata": {},
     "output_type": "execute_result"
    }
   ],
   "source": [
    "a is c"
   ]
  },
  {
   "cell_type": "code",
   "execution_count": 6,
   "id": "3cb9a79d",
   "metadata": {},
   "outputs": [
    {
     "data": {
      "text/plain": [
       "True"
      ]
     },
     "execution_count": 6,
     "metadata": {},
     "output_type": "execute_result"
    }
   ],
   "source": [
    "a == c"
   ]
  },
  {
   "cell_type": "code",
   "execution_count": 7,
   "id": "67957383",
   "metadata": {},
   "outputs": [],
   "source": [
    "a = [1,2,3,4,5]"
   ]
  },
  {
   "cell_type": "code",
   "execution_count": 8,
   "id": "aac4ed5c",
   "metadata": {},
   "outputs": [
    {
     "data": {
      "text/plain": [
       "list"
      ]
     },
     "execution_count": 8,
     "metadata": {},
     "output_type": "execute_result"
    }
   ],
   "source": [
    "type(a)"
   ]
  },
  {
   "cell_type": "code",
   "execution_count": 9,
   "id": "d8e9262c",
   "metadata": {},
   "outputs": [],
   "source": [
    "a = [1,2,3,4,5]\n",
    "b = [1,2,3,4,5]"
   ]
  },
  {
   "cell_type": "code",
   "execution_count": 10,
   "id": "868fad14",
   "metadata": {},
   "outputs": [
    {
     "data": {
      "text/plain": [
       "True"
      ]
     },
     "execution_count": 10,
     "metadata": {},
     "output_type": "execute_result"
    }
   ],
   "source": [
    "a == b"
   ]
  },
  {
   "cell_type": "code",
   "execution_count": 11,
   "id": "595f5ddc",
   "metadata": {},
   "outputs": [
    {
     "data": {
      "text/plain": [
       "False"
      ]
     },
     "execution_count": 11,
     "metadata": {},
     "output_type": "execute_result"
    }
   ],
   "source": [
    "a is b"
   ]
  },
  {
   "cell_type": "code",
   "execution_count": 12,
   "id": "bbc10315",
   "metadata": {},
   "outputs": [],
   "source": [
    "c = a"
   ]
  },
  {
   "cell_type": "code",
   "execution_count": 13,
   "id": "ca00aa73",
   "metadata": {},
   "outputs": [
    {
     "data": {
      "text/plain": [
       "[1, 2, 3, 4, 5]"
      ]
     },
     "execution_count": 13,
     "metadata": {},
     "output_type": "execute_result"
    }
   ],
   "source": [
    "c"
   ]
  },
  {
   "cell_type": "code",
   "execution_count": 14,
   "id": "e42f0e8c",
   "metadata": {},
   "outputs": [
    {
     "data": {
      "text/plain": [
       "True"
      ]
     },
     "execution_count": 14,
     "metadata": {},
     "output_type": "execute_result"
    }
   ],
   "source": [
    "c is a"
   ]
  },
  {
   "cell_type": "code",
   "execution_count": 15,
   "id": "8f89a693",
   "metadata": {},
   "outputs": [],
   "source": [
    "a.append(6)"
   ]
  },
  {
   "cell_type": "code",
   "execution_count": 16,
   "id": "0638cc44",
   "metadata": {},
   "outputs": [
    {
     "name": "stdout",
     "output_type": "stream",
     "text": [
      "[1, 2, 3, 4, 5, 6]\n"
     ]
    }
   ],
   "source": [
    "print(a)"
   ]
  },
  {
   "cell_type": "code",
   "execution_count": 17,
   "id": "5aebb25e",
   "metadata": {},
   "outputs": [
    {
     "name": "stdout",
     "output_type": "stream",
     "text": [
      "[1, 2, 3, 4, 5]\n"
     ]
    }
   ],
   "source": [
    "print(b)"
   ]
  },
  {
   "cell_type": "code",
   "execution_count": 18,
   "id": "8dde4740",
   "metadata": {},
   "outputs": [
    {
     "name": "stdout",
     "output_type": "stream",
     "text": [
      "[1, 2, 3, 4, 5, 6]\n"
     ]
    }
   ],
   "source": [
    "print(c)"
   ]
  },
  {
   "cell_type": "code",
   "execution_count": 19,
   "id": "4e213fb4",
   "metadata": {},
   "outputs": [
    {
     "data": {
      "text/plain": [
       "140202793415104"
      ]
     },
     "execution_count": 19,
     "metadata": {},
     "output_type": "execute_result"
    }
   ],
   "source": [
    "id(a)"
   ]
  },
  {
   "cell_type": "code",
   "execution_count": 20,
   "id": "31cd19ac",
   "metadata": {},
   "outputs": [
    {
     "data": {
      "text/plain": [
       "140202793441920"
      ]
     },
     "execution_count": 20,
     "metadata": {},
     "output_type": "execute_result"
    }
   ],
   "source": [
    "id(b)"
   ]
  },
  {
   "cell_type": "code",
   "execution_count": 21,
   "id": "4936c3bf",
   "metadata": {},
   "outputs": [
    {
     "data": {
      "text/plain": [
       "140202793415104"
      ]
     },
     "execution_count": 21,
     "metadata": {},
     "output_type": "execute_result"
    }
   ],
   "source": [
    "id(c)"
   ]
  },
  {
   "cell_type": "code",
   "execution_count": 22,
   "id": "c48a7b84",
   "metadata": {},
   "outputs": [
    {
     "data": {
      "text/plain": [
       "True"
      ]
     },
     "execution_count": 22,
     "metadata": {},
     "output_type": "execute_result"
    }
   ],
   "source": [
    "a is c"
   ]
  },
  {
   "cell_type": "code",
   "execution_count": 23,
   "id": "cf9ffcf1",
   "metadata": {},
   "outputs": [
    {
     "data": {
      "text/plain": [
       "False"
      ]
     },
     "execution_count": 23,
     "metadata": {},
     "output_type": "execute_result"
    }
   ],
   "source": [
    "a is not c"
   ]
  },
  {
   "cell_type": "code",
   "execution_count": 24,
   "id": "ac816df1",
   "metadata": {},
   "outputs": [
    {
     "data": {
      "text/plain": [
       "False"
      ]
     },
     "execution_count": 24,
     "metadata": {},
     "output_type": "execute_result"
    }
   ],
   "source": [
    "a is b"
   ]
  },
  {
   "cell_type": "code",
   "execution_count": 25,
   "id": "5c14a6d4",
   "metadata": {},
   "outputs": [
    {
     "data": {
      "text/plain": [
       "True"
      ]
     },
     "execution_count": 25,
     "metadata": {},
     "output_type": "execute_result"
    }
   ],
   "source": [
    "a is not b"
   ]
  },
  {
   "cell_type": "code",
   "execution_count": 26,
   "id": "9a699174",
   "metadata": {},
   "outputs": [
    {
     "data": {
      "text/plain": [
       "[1, 2, 3, 4, 5, 6]"
      ]
     },
     "execution_count": 26,
     "metadata": {},
     "output_type": "execute_result"
    }
   ],
   "source": [
    "a"
   ]
  },
  {
   "cell_type": "code",
   "execution_count": 27,
   "id": "d05c9c39",
   "metadata": {},
   "outputs": [
    {
     "data": {
      "text/plain": [
       "False"
      ]
     },
     "execution_count": 27,
     "metadata": {},
     "output_type": "execute_result"
    }
   ],
   "source": [
    "7 in a"
   ]
  },
  {
   "cell_type": "code",
   "execution_count": 28,
   "id": "e27493d0",
   "metadata": {},
   "outputs": [
    {
     "data": {
      "text/plain": [
       "True"
      ]
     },
     "execution_count": 28,
     "metadata": {},
     "output_type": "execute_result"
    }
   ],
   "source": [
    "3 in a"
   ]
  },
  {
   "cell_type": "code",
   "execution_count": 29,
   "id": "6535155f",
   "metadata": {},
   "outputs": [
    {
     "data": {
      "text/plain": [
       "True"
      ]
     },
     "execution_count": 29,
     "metadata": {},
     "output_type": "execute_result"
    }
   ],
   "source": [
    "3.0 in a"
   ]
  },
  {
   "cell_type": "code",
   "execution_count": 30,
   "id": "ad56e9b3",
   "metadata": {},
   "outputs": [],
   "source": [
    "a = \"This is a python class.\""
   ]
  },
  {
   "cell_type": "code",
   "execution_count": 31,
   "id": "06d94581",
   "metadata": {},
   "outputs": [
    {
     "data": {
      "text/plain": [
       "True"
      ]
     },
     "execution_count": 31,
     "metadata": {},
     "output_type": "execute_result"
    }
   ],
   "source": [
    "\"This\" in a"
   ]
  },
  {
   "cell_type": "code",
   "execution_count": 32,
   "id": "1fb1e577",
   "metadata": {},
   "outputs": [
    {
     "data": {
      "text/plain": [
       "False"
      ]
     },
     "execution_count": 32,
     "metadata": {},
     "output_type": "execute_result"
    }
   ],
   "source": [
    "\"this\" in a"
   ]
  },
  {
   "cell_type": "code",
   "execution_count": 33,
   "id": "000bce9c",
   "metadata": {},
   "outputs": [
    {
     "data": {
      "text/plain": [
       "True"
      ]
     },
     "execution_count": 33,
     "metadata": {},
     "output_type": "execute_result"
    }
   ],
   "source": [
    "\".\" in a"
   ]
  },
  {
   "cell_type": "code",
   "execution_count": 34,
   "id": "79dd4d57",
   "metadata": {},
   "outputs": [
    {
     "data": {
      "text/plain": [
       "False"
      ]
     },
     "execution_count": 34,
     "metadata": {},
     "output_type": "execute_result"
    }
   ],
   "source": [
    "\".\" not in a"
   ]
  },
  {
   "cell_type": "code",
   "execution_count": 35,
   "id": "87cdf3a6",
   "metadata": {},
   "outputs": [],
   "source": [
    "result = \".\" not in a"
   ]
  },
  {
   "cell_type": "code",
   "execution_count": 36,
   "id": "1fab8063",
   "metadata": {},
   "outputs": [
    {
     "name": "stdout",
     "output_type": "stream",
     "text": [
      "False\n"
     ]
    }
   ],
   "source": [
    "print(result)"
   ]
  },
  {
   "cell_type": "code",
   "execution_count": 37,
   "id": "61b6cd36",
   "metadata": {},
   "outputs": [
    {
     "data": {
      "text/plain": [
       "bool"
      ]
     },
     "execution_count": 37,
     "metadata": {},
     "output_type": "execute_result"
    }
   ],
   "source": [
    "type(result)"
   ]
  },
  {
   "cell_type": "code",
   "execution_count": 38,
   "id": "cefb1f53",
   "metadata": {},
   "outputs": [
    {
     "data": {
      "text/plain": [
       "False"
      ]
     },
     "execution_count": 38,
     "metadata": {},
     "output_type": "execute_result"
    }
   ],
   "source": [
    "result"
   ]
  },
  {
   "cell_type": "code",
   "execution_count": 39,
   "id": "20d669c4",
   "metadata": {},
   "outputs": [
    {
     "data": {
      "text/plain": [
       "'False'"
      ]
     },
     "execution_count": 39,
     "metadata": {},
     "output_type": "execute_result"
    }
   ],
   "source": [
    "\"False\""
   ]
  },
  {
   "cell_type": "markdown",
   "id": "87881e00",
   "metadata": {},
   "source": [
    "Binary Numbers\n",
    "* 0 - 0\n",
    "* 1 - 1\n",
    "* 2 - 10\n",
    "* 3 - 11\n",
    "* 4 - 100\n",
    "* 5 - 101\n",
    "* 6 - 110\n",
    "* 7 - 111\n",
    "* 8 - 1000"
   ]
  },
  {
   "cell_type": "code",
   "execution_count": 40,
   "id": "3c3fc6b1",
   "metadata": {},
   "outputs": [
    {
     "data": {
      "text/plain": [
       "14"
      ]
     },
     "execution_count": 40,
     "metadata": {},
     "output_type": "execute_result"
    }
   ],
   "source": [
    "7 << 1"
   ]
  },
  {
   "cell_type": "code",
   "execution_count": 44,
   "id": "b31e1787",
   "metadata": {},
   "outputs": [
    {
     "data": {
      "text/plain": [
       "28"
      ]
     },
     "execution_count": 44,
     "metadata": {},
     "output_type": "execute_result"
    }
   ],
   "source": [
    "7 << 2"
   ]
  },
  {
   "cell_type": "code",
   "execution_count": 42,
   "id": "7371eb1a",
   "metadata": {},
   "outputs": [
    {
     "data": {
      "text/plain": [
       "'0b111'"
      ]
     },
     "execution_count": 42,
     "metadata": {},
     "output_type": "execute_result"
    }
   ],
   "source": [
    "bin(7)"
   ]
  },
  {
   "cell_type": "code",
   "execution_count": 43,
   "id": "e8d1d345",
   "metadata": {},
   "outputs": [
    {
     "data": {
      "text/plain": [
       "'0b1110'"
      ]
     },
     "execution_count": 43,
     "metadata": {},
     "output_type": "execute_result"
    }
   ],
   "source": [
    "bin(14)"
   ]
  },
  {
   "cell_type": "code",
   "execution_count": 45,
   "id": "6a4b8aff",
   "metadata": {},
   "outputs": [
    {
     "data": {
      "text/plain": [
       "'0b11100'"
      ]
     },
     "execution_count": 45,
     "metadata": {},
     "output_type": "execute_result"
    }
   ],
   "source": [
    "bin(28)"
   ]
  },
  {
   "cell_type": "code",
   "execution_count": 46,
   "id": "9916fe33",
   "metadata": {},
   "outputs": [
    {
     "data": {
      "text/plain": [
       "'0b111000'"
      ]
     },
     "execution_count": 46,
     "metadata": {},
     "output_type": "execute_result"
    }
   ],
   "source": [
    "bin(56)"
   ]
  },
  {
   "cell_type": "code",
   "execution_count": 47,
   "id": "c55c5622",
   "metadata": {},
   "outputs": [
    {
     "data": {
      "text/plain": [
       "56"
      ]
     },
     "execution_count": 47,
     "metadata": {},
     "output_type": "execute_result"
    }
   ],
   "source": [
    "7 << 3"
   ]
  },
  {
   "cell_type": "code",
   "execution_count": 48,
   "id": "5291f838",
   "metadata": {},
   "outputs": [
    {
     "data": {
      "text/plain": [
       "56"
      ]
     },
     "execution_count": 48,
     "metadata": {},
     "output_type": "execute_result"
    }
   ],
   "source": [
    "int(0b111000)"
   ]
  },
  {
   "cell_type": "code",
   "execution_count": 49,
   "id": "47e8fa12",
   "metadata": {},
   "outputs": [
    {
     "data": {
      "text/plain": [
       "20"
      ]
     },
     "execution_count": 49,
     "metadata": {},
     "output_type": "execute_result"
    }
   ],
   "source": [
    "5 << 2"
   ]
  },
  {
   "cell_type": "code",
   "execution_count": 50,
   "id": "433cfe8f",
   "metadata": {},
   "outputs": [
    {
     "data": {
      "text/plain": [
       "'0b101'"
      ]
     },
     "execution_count": 50,
     "metadata": {},
     "output_type": "execute_result"
    }
   ],
   "source": [
    "bin(5)"
   ]
  },
  {
   "cell_type": "code",
   "execution_count": 51,
   "id": "2474b01d",
   "metadata": {},
   "outputs": [
    {
     "data": {
      "text/plain": [
       "'0b10100'"
      ]
     },
     "execution_count": 51,
     "metadata": {},
     "output_type": "execute_result"
    }
   ],
   "source": [
    "bin(20)"
   ]
  },
  {
   "cell_type": "code",
   "execution_count": 52,
   "id": "e9559c33",
   "metadata": {},
   "outputs": [
    {
     "data": {
      "text/plain": [
       "3"
      ]
     },
     "execution_count": 52,
     "metadata": {},
     "output_type": "execute_result"
    }
   ],
   "source": [
    "7 >> 1"
   ]
  },
  {
   "cell_type": "code",
   "execution_count": 53,
   "id": "069af430",
   "metadata": {},
   "outputs": [
    {
     "data": {
      "text/plain": [
       "'0b111'"
      ]
     },
     "execution_count": 53,
     "metadata": {},
     "output_type": "execute_result"
    }
   ],
   "source": [
    "bin(7)"
   ]
  },
  {
   "cell_type": "code",
   "execution_count": 54,
   "id": "e43a5b7e",
   "metadata": {},
   "outputs": [
    {
     "data": {
      "text/plain": [
       "'0b11'"
      ]
     },
     "execution_count": 54,
     "metadata": {},
     "output_type": "execute_result"
    }
   ],
   "source": [
    "bin(3)"
   ]
  },
  {
   "cell_type": "code",
   "execution_count": 55,
   "id": "0554b595",
   "metadata": {},
   "outputs": [
    {
     "data": {
      "text/plain": [
       "3"
      ]
     },
     "execution_count": 55,
     "metadata": {},
     "output_type": "execute_result"
    }
   ],
   "source": [
    "6 >> 1"
   ]
  },
  {
   "cell_type": "code",
   "execution_count": 56,
   "id": "78a65b4d",
   "metadata": {},
   "outputs": [
    {
     "data": {
      "text/plain": [
       "'0b110'"
      ]
     },
     "execution_count": 56,
     "metadata": {},
     "output_type": "execute_result"
    }
   ],
   "source": [
    "bin(6)"
   ]
  },
  {
   "cell_type": "code",
   "execution_count": 57,
   "id": "bf2a9dea",
   "metadata": {},
   "outputs": [
    {
     "data": {
      "text/plain": [
       "2"
      ]
     },
     "execution_count": 57,
     "metadata": {},
     "output_type": "execute_result"
    }
   ],
   "source": [
    "8 >> 2"
   ]
  },
  {
   "cell_type": "code",
   "execution_count": 58,
   "id": "146ade09",
   "metadata": {},
   "outputs": [
    {
     "data": {
      "text/plain": [
       "'0b1000'"
      ]
     },
     "execution_count": 58,
     "metadata": {},
     "output_type": "execute_result"
    }
   ],
   "source": [
    "bin(8)"
   ]
  },
  {
   "cell_type": "code",
   "execution_count": 59,
   "id": "1066ad15",
   "metadata": {},
   "outputs": [
    {
     "data": {
      "text/plain": [
       "'0b10'"
      ]
     },
     "execution_count": 59,
     "metadata": {},
     "output_type": "execute_result"
    }
   ],
   "source": [
    "bin(2)"
   ]
  },
  {
   "cell_type": "code",
   "execution_count": 60,
   "id": "d4a72881",
   "metadata": {},
   "outputs": [
    {
     "data": {
      "text/plain": [
       "-16"
      ]
     },
     "execution_count": 60,
     "metadata": {},
     "output_type": "execute_result"
    }
   ],
   "source": [
    "-8 << 1"
   ]
  },
  {
   "cell_type": "code",
   "execution_count": 61,
   "id": "f46974ff",
   "metadata": {},
   "outputs": [
    {
     "data": {
      "text/plain": [
       "'-0b1000'"
      ]
     },
     "execution_count": 61,
     "metadata": {},
     "output_type": "execute_result"
    }
   ],
   "source": [
    "bin(-8)"
   ]
  },
  {
   "cell_type": "code",
   "execution_count": 62,
   "id": "582e3384",
   "metadata": {},
   "outputs": [
    {
     "data": {
      "text/plain": [
       "'-0b10000'"
      ]
     },
     "execution_count": 62,
     "metadata": {},
     "output_type": "execute_result"
    }
   ],
   "source": [
    "bin(-16)"
   ]
  },
  {
   "cell_type": "code",
   "execution_count": 63,
   "id": "5dde551b",
   "metadata": {},
   "outputs": [
    {
     "data": {
      "text/plain": [
       "-4"
      ]
     },
     "execution_count": 63,
     "metadata": {},
     "output_type": "execute_result"
    }
   ],
   "source": [
    "-8 >> 1"
   ]
  },
  {
   "cell_type": "code",
   "execution_count": 65,
   "id": "2c3f264a",
   "metadata": {},
   "outputs": [
    {
     "data": {
      "text/plain": [
       "10"
      ]
     },
     "execution_count": 65,
     "metadata": {},
     "output_type": "execute_result"
    }
   ],
   "source": [
    "20 >> 1"
   ]
  },
  {
   "cell_type": "code",
   "execution_count": 67,
   "id": "3bce9389",
   "metadata": {},
   "outputs": [
    {
     "data": {
      "text/plain": [
       "-5"
      ]
     },
     "execution_count": 67,
     "metadata": {},
     "output_type": "execute_result"
    }
   ],
   "source": [
    "-20 >> 2"
   ]
  },
  {
   "cell_type": "code",
   "execution_count": 68,
   "id": "e1ec9db8",
   "metadata": {},
   "outputs": [
    {
     "data": {
      "text/plain": [
       "'-0b10100'"
      ]
     },
     "execution_count": 68,
     "metadata": {},
     "output_type": "execute_result"
    }
   ],
   "source": [
    "bin(-20)"
   ]
  },
  {
   "cell_type": "code",
   "execution_count": 69,
   "id": "98895df1",
   "metadata": {},
   "outputs": [
    {
     "data": {
      "text/plain": [
       "'-0b101'"
      ]
     },
     "execution_count": 69,
     "metadata": {},
     "output_type": "execute_result"
    }
   ],
   "source": [
    "bin(-5)"
   ]
  },
  {
   "cell_type": "code",
   "execution_count": 72,
   "id": "ebcc5d4e",
   "metadata": {},
   "outputs": [
    {
     "data": {
      "text/plain": [
       "0"
      ]
     },
     "execution_count": 72,
     "metadata": {},
     "output_type": "execute_result"
    }
   ],
   "source": [
    "1 >> 1"
   ]
  },
  {
   "cell_type": "code",
   "execution_count": 73,
   "id": "27573b36",
   "metadata": {},
   "outputs": [
    {
     "data": {
      "text/plain": [
       "0"
      ]
     },
     "execution_count": 73,
     "metadata": {},
     "output_type": "execute_result"
    }
   ],
   "source": [
    "1 >> 2"
   ]
  },
  {
   "cell_type": "code",
   "execution_count": 75,
   "id": "87f8d42b",
   "metadata": {},
   "outputs": [
    {
     "data": {
      "text/plain": [
       "1"
      ]
     },
     "execution_count": 75,
     "metadata": {},
     "output_type": "execute_result"
    }
   ],
   "source": [
    "1 >> 0"
   ]
  },
  {
   "cell_type": "code",
   "execution_count": 76,
   "id": "0f0f277b",
   "metadata": {},
   "outputs": [],
   "source": [
    "my_string1 = \"India's capital is New Delhi.\""
   ]
  },
  {
   "cell_type": "code",
   "execution_count": 77,
   "id": "cf1fb49b",
   "metadata": {},
   "outputs": [
    {
     "name": "stdout",
     "output_type": "stream",
     "text": [
      "India's capital is New Delhi.\n"
     ]
    }
   ],
   "source": [
    "print(my_string1)"
   ]
  },
  {
   "cell_type": "code",
   "execution_count": 78,
   "id": "cf6b969f",
   "metadata": {},
   "outputs": [],
   "source": [
    "my_string2 = 'India\\'s capital is New Delhi'"
   ]
  },
  {
   "cell_type": "code",
   "execution_count": 79,
   "id": "1c462eec",
   "metadata": {},
   "outputs": [
    {
     "name": "stdout",
     "output_type": "stream",
     "text": [
      "India's capital is New Delhi\n"
     ]
    }
   ],
   "source": [
    "print(my_string2)"
   ]
  },
  {
   "cell_type": "code",
   "execution_count": 80,
   "id": "c30d9136",
   "metadata": {},
   "outputs": [
    {
     "data": {
      "text/plain": [
       "'He said \"It is cold\"'"
      ]
     },
     "execution_count": 80,
     "metadata": {},
     "output_type": "execute_result"
    }
   ],
   "source": [
    "'He said \"It is cold\"'"
   ]
  },
  {
   "cell_type": "code",
   "execution_count": 81,
   "id": "f9112ea5",
   "metadata": {},
   "outputs": [
    {
     "data": {
      "text/plain": [
       "'He said \"It is cold\"'"
      ]
     },
     "execution_count": 81,
     "metadata": {},
     "output_type": "execute_result"
    }
   ],
   "source": [
    "\"He said \\\"It is cold\\\"\""
   ]
  },
  {
   "cell_type": "code",
   "execution_count": 82,
   "id": "458d5927",
   "metadata": {},
   "outputs": [
    {
     "name": "stdout",
     "output_type": "stream",
     "text": [
      "India's capital is New Delhi.\n"
     ]
    }
   ],
   "source": [
    "print(my_string1)"
   ]
  },
  {
   "cell_type": "code",
   "execution_count": 83,
   "id": "742516dd",
   "metadata": {},
   "outputs": [
    {
     "data": {
      "text/plain": [
       "\"India's capital is new delhi.\""
      ]
     },
     "execution_count": 83,
     "metadata": {},
     "output_type": "execute_result"
    }
   ],
   "source": [
    "my_string1.capitalize()"
   ]
  },
  {
   "cell_type": "code",
   "execution_count": 84,
   "id": "4fa4f033",
   "metadata": {},
   "outputs": [
    {
     "data": {
      "text/plain": [
       "'Ernest'"
      ]
     },
     "execution_count": 84,
     "metadata": {},
     "output_type": "execute_result"
    }
   ],
   "source": [
    "\"ernest\".capitalize()"
   ]
  },
  {
   "cell_type": "code",
   "execution_count": 85,
   "id": "c0778625",
   "metadata": {},
   "outputs": [
    {
     "data": {
      "text/plain": [
       "'New delhi. calcutta'"
      ]
     },
     "execution_count": 85,
     "metadata": {},
     "output_type": "execute_result"
    }
   ],
   "source": [
    "\"New Delhi. Calcutta\".capitalize()"
   ]
  },
  {
   "cell_type": "code",
   "execution_count": 86,
   "id": "6fb303de",
   "metadata": {},
   "outputs": [
    {
     "data": {
      "text/plain": [
       "\"india's capital is new delhi.\""
      ]
     },
     "execution_count": 86,
     "metadata": {},
     "output_type": "execute_result"
    }
   ],
   "source": [
    "my_string1.casefold()"
   ]
  },
  {
   "cell_type": "code",
   "execution_count": 87,
   "id": "8807c659",
   "metadata": {},
   "outputs": [],
   "source": [
    "?my_string1.casefold"
   ]
  },
  {
   "cell_type": "code",
   "execution_count": 89,
   "id": "a1eba7eb",
   "metadata": {},
   "outputs": [
    {
     "name": "stdout",
     "output_type": "stream",
     "text": [
      "Help on built-in function casefold:\n",
      "\n",
      "casefold() method of builtins.str instance\n",
      "    Return a version of the string suitable for caseless comparisons.\n",
      "\n"
     ]
    }
   ],
   "source": [
    "help(my_string1.casefold)"
   ]
  },
  {
   "cell_type": "code",
   "execution_count": 90,
   "id": "8d88126e",
   "metadata": {},
   "outputs": [
    {
     "data": {
      "text/plain": [
       "True"
      ]
     },
     "execution_count": 90,
     "metadata": {},
     "output_type": "execute_result"
    }
   ],
   "source": [
    "\"India\".casefold() == \"india\".casefold()"
   ]
  },
  {
   "cell_type": "code",
   "execution_count": 91,
   "id": "0513072e",
   "metadata": {},
   "outputs": [
    {
     "data": {
      "text/plain": [
       "4"
      ]
     },
     "execution_count": 91,
     "metadata": {},
     "output_type": "execute_result"
    }
   ],
   "source": [
    "my_string1.count(\"i\")"
   ]
  },
  {
   "cell_type": "code",
   "execution_count": 92,
   "id": "4755f772",
   "metadata": {},
   "outputs": [
    {
     "data": {
      "text/plain": [
       "\"India's capital is New Delhi.\""
      ]
     },
     "execution_count": 92,
     "metadata": {},
     "output_type": "execute_result"
    }
   ],
   "source": [
    "my_string1"
   ]
  },
  {
   "cell_type": "code",
   "execution_count": 93,
   "id": "50f4f0df",
   "metadata": {},
   "outputs": [
    {
     "data": {
      "text/plain": [
       "1"
      ]
     },
     "execution_count": 93,
     "metadata": {},
     "output_type": "execute_result"
    }
   ],
   "source": [
    "my_string1.count(\"pi\")"
   ]
  },
  {
   "cell_type": "code",
   "execution_count": 94,
   "id": "575eedaa",
   "metadata": {},
   "outputs": [
    {
     "data": {
      "text/plain": [
       "1"
      ]
     },
     "execution_count": 94,
     "metadata": {},
     "output_type": "execute_result"
    }
   ],
   "source": [
    "my_string1.count(\"I\")"
   ]
  },
  {
   "cell_type": "code",
   "execution_count": 95,
   "id": "9c0be94c",
   "metadata": {},
   "outputs": [
    {
     "data": {
      "text/plain": [
       "5"
      ]
     },
     "execution_count": 95,
     "metadata": {},
     "output_type": "execute_result"
    }
   ],
   "source": [
    "my_string1.casefold().count(\"i\")"
   ]
  },
  {
   "cell_type": "code",
   "execution_count": 96,
   "id": "79366e31",
   "metadata": {},
   "outputs": [
    {
     "data": {
      "text/plain": [
       "0"
      ]
     },
     "execution_count": 96,
     "metadata": {},
     "output_type": "execute_result"
    }
   ],
   "source": [
    "my_string1.count(\"pii\")"
   ]
  },
  {
   "cell_type": "code",
   "execution_count": 97,
   "id": "9eb58d38",
   "metadata": {},
   "outputs": [
    {
     "data": {
      "text/plain": [
       "\"India's capital is New Delhi.\""
      ]
     },
     "execution_count": 97,
     "metadata": {},
     "output_type": "execute_result"
    }
   ],
   "source": [
    "my_string1"
   ]
  },
  {
   "cell_type": "code",
   "execution_count": 98,
   "id": "37a2e893",
   "metadata": {},
   "outputs": [
    {
     "data": {
      "text/plain": [
       "2"
      ]
     },
     "execution_count": 98,
     "metadata": {},
     "output_type": "execute_result"
    }
   ],
   "source": [
    "my_string1.find(\"d\")"
   ]
  },
  {
   "cell_type": "code",
   "execution_count": 99,
   "id": "e203b378",
   "metadata": {},
   "outputs": [
    {
     "data": {
      "text/plain": [
       "4"
      ]
     },
     "execution_count": 99,
     "metadata": {},
     "output_type": "execute_result"
    }
   ],
   "source": [
    "my_string1.find(\"a\")"
   ]
  },
  {
   "cell_type": "code",
   "execution_count": 100,
   "id": "289d5c6d",
   "metadata": {},
   "outputs": [
    {
     "data": {
      "text/plain": [
       "-1"
      ]
     },
     "execution_count": 100,
     "metadata": {},
     "output_type": "execute_result"
    }
   ],
   "source": [
    "my_string1.find(\"z\")"
   ]
  },
  {
   "cell_type": "code",
   "execution_count": 102,
   "id": "ce2c05d2",
   "metadata": {},
   "outputs": [
    {
     "data": {
      "text/plain": [
       "8"
      ]
     },
     "execution_count": 102,
     "metadata": {},
     "output_type": "execute_result"
    }
   ],
   "source": [
    "my_string1.index(\"capi\")"
   ]
  },
  {
   "cell_type": "code",
   "execution_count": 103,
   "id": "5b70b82a",
   "metadata": {},
   "outputs": [],
   "source": [
    "?my_string1.index"
   ]
  },
  {
   "cell_type": "code",
   "execution_count": 104,
   "id": "6db545a8",
   "metadata": {},
   "outputs": [
    {
     "data": {
      "text/plain": [
       "False"
      ]
     },
     "execution_count": 104,
     "metadata": {},
     "output_type": "execute_result"
    }
   ],
   "source": [
    "my_string1.isalnum()"
   ]
  },
  {
   "cell_type": "code",
   "execution_count": 105,
   "id": "cf0bde1f",
   "metadata": {},
   "outputs": [
    {
     "data": {
      "text/plain": [
       "False"
      ]
     },
     "execution_count": 105,
     "metadata": {},
     "output_type": "execute_result"
    }
   ],
   "source": [
    "\"India 123\".isalnum()"
   ]
  },
  {
   "cell_type": "code",
   "execution_count": 106,
   "id": "5749a621",
   "metadata": {},
   "outputs": [
    {
     "data": {
      "text/plain": [
       "True"
      ]
     },
     "execution_count": 106,
     "metadata": {},
     "output_type": "execute_result"
    }
   ],
   "source": [
    "\"India123\".isalnum()"
   ]
  },
  {
   "cell_type": "code",
   "execution_count": 107,
   "id": "65a7623f",
   "metadata": {},
   "outputs": [
    {
     "data": {
      "text/plain": [
       "True"
      ]
     },
     "execution_count": 107,
     "metadata": {},
     "output_type": "execute_result"
    }
   ],
   "source": [
    "\"123\".isdigit()"
   ]
  },
  {
   "cell_type": "code",
   "execution_count": 108,
   "id": "20a62e8e",
   "metadata": {},
   "outputs": [
    {
     "data": {
      "text/plain": [
       "False"
      ]
     },
     "execution_count": 108,
     "metadata": {},
     "output_type": "execute_result"
    }
   ],
   "source": [
    "\"123.24\".isdigit()"
   ]
  },
  {
   "cell_type": "code",
   "execution_count": 109,
   "id": "c34b0700",
   "metadata": {},
   "outputs": [
    {
     "data": {
      "text/plain": [
       "False"
      ]
     },
     "execution_count": 109,
     "metadata": {},
     "output_type": "execute_result"
    }
   ],
   "source": [
    "\"123.24\".isnumeric()"
   ]
  },
  {
   "cell_type": "code",
   "execution_count": 110,
   "id": "12b1e9de",
   "metadata": {},
   "outputs": [
    {
     "data": {
      "text/plain": [
       "\"india's capital is new delhi.\""
      ]
     },
     "execution_count": 110,
     "metadata": {},
     "output_type": "execute_result"
    }
   ],
   "source": [
    "my_string1.lower()"
   ]
  },
  {
   "cell_type": "code",
   "execution_count": 111,
   "id": "8e2d2891",
   "metadata": {},
   "outputs": [],
   "source": [
    "?my_string1.format"
   ]
  },
  {
   "cell_type": "code",
   "execution_count": 112,
   "id": "b10620f6",
   "metadata": {},
   "outputs": [
    {
     "data": {
      "text/plain": [
       "\"India's capital is New Delhi.\""
      ]
     },
     "execution_count": 112,
     "metadata": {},
     "output_type": "execute_result"
    }
   ],
   "source": [
    "my_string1.format()"
   ]
  },
  {
   "cell_type": "code",
   "execution_count": 113,
   "id": "717795fd",
   "metadata": {},
   "outputs": [
    {
     "data": {
      "text/plain": [
       "\"india's capital is new delhi\""
      ]
     },
     "execution_count": 113,
     "metadata": {},
     "output_type": "execute_result"
    }
   ],
   "source": [
    "\"india's capital is new delhi\".format()"
   ]
  },
  {
   "cell_type": "code",
   "execution_count": 114,
   "id": "cc46421d",
   "metadata": {},
   "outputs": [
    {
     "data": {
      "text/plain": [
       "'My age is 25'"
      ]
     },
     "execution_count": 114,
     "metadata": {},
     "output_type": "execute_result"
    }
   ],
   "source": [
    "\"My age is 25\".format()"
   ]
  },
  {
   "cell_type": "code",
   "execution_count": null,
   "id": "de2042c6",
   "metadata": {},
   "outputs": [],
   "source": [
    "# difference between index and find\n",
    "# format"
   ]
  },
  {
   "cell_type": "code",
   "execution_count": 115,
   "id": "6270b0cb",
   "metadata": {},
   "outputs": [
    {
     "data": {
      "text/plain": [
       "\"india's capital is new delhi.\""
      ]
     },
     "execution_count": 115,
     "metadata": {},
     "output_type": "execute_result"
    }
   ],
   "source": [
    "my_string1.lower()"
   ]
  },
  {
   "cell_type": "code",
   "execution_count": 116,
   "id": "5a748886",
   "metadata": {},
   "outputs": [
    {
     "data": {
      "text/plain": [
       "'Ernest   '"
      ]
     },
     "execution_count": 116,
     "metadata": {},
     "output_type": "execute_result"
    }
   ],
   "source": [
    "\"    Ernest   \".lstrip()"
   ]
  },
  {
   "cell_type": "code",
   "execution_count": 118,
   "id": "111f23e9",
   "metadata": {},
   "outputs": [
    {
     "data": {
      "text/plain": [
       "'    Ernest'"
      ]
     },
     "execution_count": 118,
     "metadata": {},
     "output_type": "execute_result"
    }
   ],
   "source": [
    "\"    Ernest   \".rstrip()"
   ]
  },
  {
   "cell_type": "code",
   "execution_count": 119,
   "id": "07801ae4",
   "metadata": {},
   "outputs": [
    {
     "data": {
      "text/plain": [
       "'Ernest'"
      ]
     },
     "execution_count": 119,
     "metadata": {},
     "output_type": "execute_result"
    }
   ],
   "source": [
    "\"    Ernest   \".strip()"
   ]
  },
  {
   "cell_type": "code",
   "execution_count": 120,
   "id": "6635a9da",
   "metadata": {},
   "outputs": [
    {
     "data": {
      "text/plain": [
       "\"iNDIA'S CAPITAL IS nEW dELHI.\""
      ]
     },
     "execution_count": 120,
     "metadata": {},
     "output_type": "execute_result"
    }
   ],
   "source": [
    "my_string1.swapcase()"
   ]
  },
  {
   "cell_type": "code",
   "execution_count": 121,
   "id": "1c1f953a",
   "metadata": {},
   "outputs": [
    {
     "data": {
      "text/plain": [
       "13"
      ]
     },
     "execution_count": 121,
     "metadata": {},
     "output_type": "execute_result"
    }
   ],
   "source": [
    "my_string1.rfind(\"a\")"
   ]
  },
  {
   "cell_type": "code",
   "execution_count": 122,
   "id": "1023da95",
   "metadata": {},
   "outputs": [
    {
     "data": {
      "text/plain": [
       "\"India's capital is New Delhi.\""
      ]
     },
     "execution_count": 122,
     "metadata": {},
     "output_type": "execute_result"
    }
   ],
   "source": [
    "my_string1"
   ]
  },
  {
   "cell_type": "code",
   "execution_count": 123,
   "id": "ced4a024",
   "metadata": {},
   "outputs": [
    {
     "data": {
      "text/plain": [
       "['my', 'name', 'is', 'Ernest']"
      ]
     },
     "execution_count": 123,
     "metadata": {},
     "output_type": "execute_result"
    }
   ],
   "source": [
    "\"my name is Ernest\".split()"
   ]
  },
  {
   "cell_type": "code",
   "execution_count": 125,
   "id": "633c3a91",
   "metadata": {},
   "outputs": [
    {
     "data": {
      "text/plain": [
       "['my nam', ' is Ern', 'st']"
      ]
     },
     "execution_count": 125,
     "metadata": {},
     "output_type": "execute_result"
    }
   ],
   "source": [
    "\"my name is Ernest\".split(\"e\")"
   ]
  },
  {
   "cell_type": "code",
   "execution_count": 126,
   "id": "6f846e10",
   "metadata": {},
   "outputs": [
    {
     "data": {
      "text/plain": [
       "-1"
      ]
     },
     "execution_count": 126,
     "metadata": {},
     "output_type": "execute_result"
    }
   ],
   "source": [
    "\"Ernest\".find(\"Z\")"
   ]
  },
  {
   "cell_type": "code",
   "execution_count": 127,
   "id": "8dd34d65",
   "metadata": {},
   "outputs": [
    {
     "ename": "ValueError",
     "evalue": "substring not found",
     "output_type": "error",
     "traceback": [
      "\u001b[0;31m---------------------------------------------------------------------------\u001b[0m",
      "\u001b[0;31mValueError\u001b[0m                                Traceback (most recent call last)",
      "\u001b[0;32m/var/folders/0x/8qbylcs945qcwxhy42nzt0340000gn/T/ipykernel_1108/189466090.py\u001b[0m in \u001b[0;36m<module>\u001b[0;34m\u001b[0m\n\u001b[0;32m----> 1\u001b[0;31m \u001b[0;34m\"Ernest\"\u001b[0m\u001b[0;34m.\u001b[0m\u001b[0mindex\u001b[0m\u001b[0;34m(\u001b[0m\u001b[0;34m\"Z\"\u001b[0m\u001b[0;34m)\u001b[0m\u001b[0;34m\u001b[0m\u001b[0;34m\u001b[0m\u001b[0m\n\u001b[0m",
      "\u001b[0;31mValueError\u001b[0m: substring not found"
     ]
    }
   ],
   "source": [
    "\"Ernest\".index(\"Z\")"
   ]
  },
  {
   "cell_type": "code",
   "execution_count": 128,
   "id": "2b9405b3",
   "metadata": {},
   "outputs": [],
   "source": [
    "name = 'Ernest'\n",
    "score = 85.73"
   ]
  },
  {
   "cell_type": "code",
   "execution_count": 129,
   "id": "3c0de875",
   "metadata": {},
   "outputs": [
    {
     "data": {
      "text/plain": [
       "'Ernest scored 85.73'"
      ]
     },
     "execution_count": 129,
     "metadata": {},
     "output_type": "execute_result"
    }
   ],
   "source": [
    "\"{} scored {}\".format(name, score)"
   ]
  },
  {
   "cell_type": "code",
   "execution_count": 130,
   "id": "b4a4e875",
   "metadata": {},
   "outputs": [
    {
     "data": {
      "text/plain": [
       "'Ernest scored 85.73'"
      ]
     },
     "execution_count": 130,
     "metadata": {},
     "output_type": "execute_result"
    }
   ],
   "source": [
    "f\"{name} scored {score}\""
   ]
  },
  {
   "cell_type": "code",
   "execution_count": 131,
   "id": "52eaf7e9",
   "metadata": {},
   "outputs": [],
   "source": [
    "num = 75.253624556"
   ]
  },
  {
   "cell_type": "code",
   "execution_count": 132,
   "id": "572a7e3e",
   "metadata": {},
   "outputs": [
    {
     "data": {
      "text/plain": [
       "'75.3'"
      ]
     },
     "execution_count": 132,
     "metadata": {},
     "output_type": "execute_result"
    }
   ],
   "source": [
    "'%.3g'%(num)"
   ]
  },
  {
   "cell_type": "code",
   "execution_count": 133,
   "id": "98961cad",
   "metadata": {},
   "outputs": [
    {
     "data": {
      "text/plain": [
       "'75.254'"
      ]
     },
     "execution_count": 133,
     "metadata": {},
     "output_type": "execute_result"
    }
   ],
   "source": [
    "'%.5g'%(num)"
   ]
  },
  {
   "cell_type": "code",
   "execution_count": 134,
   "id": "93b679c2",
   "metadata": {},
   "outputs": [
    {
     "data": {
      "text/plain": [
       "75.254"
      ]
     },
     "execution_count": 134,
     "metadata": {},
     "output_type": "execute_result"
    }
   ],
   "source": [
    "round(num, 3)"
   ]
  },
  {
   "cell_type": "code",
   "execution_count": 138,
   "id": "181eae1f",
   "metadata": {},
   "outputs": [],
   "source": [
    "l1 = [\"E\", \"r\", \"n\", \"e\", \"s\", \"t\"]"
   ]
  },
  {
   "cell_type": "code",
   "execution_count": 141,
   "id": "0ade3e96",
   "metadata": {},
   "outputs": [
    {
     "data": {
      "text/plain": [
       "'Ernest'"
      ]
     },
     "execution_count": 141,
     "metadata": {},
     "output_type": "execute_result"
    }
   ],
   "source": [
    "\"\".join(l1)"
   ]
  },
  {
   "cell_type": "code",
   "execution_count": 142,
   "id": "3999da62",
   "metadata": {},
   "outputs": [
    {
     "data": {
      "text/plain": [
       "'E r n e s t'"
      ]
     },
     "execution_count": 142,
     "metadata": {},
     "output_type": "execute_result"
    }
   ],
   "source": [
    "\" \".join(l1)"
   ]
  },
  {
   "cell_type": "code",
   "execution_count": 143,
   "id": "e7617f14",
   "metadata": {},
   "outputs": [
    {
     "data": {
      "text/plain": [
       "'E-r-n-e-s-t'"
      ]
     },
     "execution_count": 143,
     "metadata": {},
     "output_type": "execute_result"
    }
   ],
   "source": [
    "\"-\".join(l1)"
   ]
  },
  {
   "cell_type": "code",
   "execution_count": 144,
   "id": "364b8c59",
   "metadata": {},
   "outputs": [],
   "source": [
    "l2 = [\"This\", \"is\", \"a\", \"Python\", \"class\"]"
   ]
  },
  {
   "cell_type": "code",
   "execution_count": 145,
   "id": "1207da5c",
   "metadata": {},
   "outputs": [
    {
     "data": {
      "text/plain": [
       "['This', 'is', 'a', 'Python', 'class']"
      ]
     },
     "execution_count": 145,
     "metadata": {},
     "output_type": "execute_result"
    }
   ],
   "source": [
    "l2"
   ]
  },
  {
   "cell_type": "code",
   "execution_count": 146,
   "id": "4bfd4b06",
   "metadata": {},
   "outputs": [
    {
     "data": {
      "text/plain": [
       "'This is a Python class'"
      ]
     },
     "execution_count": 146,
     "metadata": {},
     "output_type": "execute_result"
    }
   ],
   "source": [
    "\" \".join(l2)"
   ]
  },
  {
   "cell_type": "code",
   "execution_count": 147,
   "id": "3a53d784",
   "metadata": {},
   "outputs": [
    {
     "data": {
      "text/plain": [
       "'ThisisaPythonclass'"
      ]
     },
     "execution_count": 147,
     "metadata": {},
     "output_type": "execute_result"
    }
   ],
   "source": [
    "\"\".join(l2)"
   ]
  },
  {
   "cell_type": "code",
   "execution_count": 148,
   "id": "fc311f41",
   "metadata": {},
   "outputs": [
    {
     "data": {
      "text/plain": [
       "'Wrnest'"
      ]
     },
     "execution_count": 148,
     "metadata": {},
     "output_type": "execute_result"
    }
   ],
   "source": [
    "\"Ernest\".replace(\"E\", \"W\")"
   ]
  },
  {
   "cell_type": "code",
   "execution_count": 149,
   "id": "f54552b4",
   "metadata": {},
   "outputs": [
    {
     "data": {
      "text/plain": [
       "'Babeen'"
      ]
     },
     "execution_count": 149,
     "metadata": {},
     "output_type": "execute_result"
    }
   ],
   "source": [
    "\"Baboon\".replace(\"o\", \"e\")"
   ]
  },
  {
   "cell_type": "code",
   "execution_count": 150,
   "id": "3472885c",
   "metadata": {},
   "outputs": [
    {
     "data": {
      "text/plain": [
       "'Bab!!n'"
      ]
     },
     "execution_count": 150,
     "metadata": {},
     "output_type": "execute_result"
    }
   ],
   "source": [
    "\"Baboon\".replace(\"o\", \"!\")"
   ]
  },
  {
   "cell_type": "code",
   "execution_count": 151,
   "id": "6b193059",
   "metadata": {},
   "outputs": [
    {
     "data": {
      "text/plain": [
       "2"
      ]
     },
     "execution_count": 151,
     "metadata": {},
     "output_type": "execute_result"
    }
   ],
   "source": [
    "1+1"
   ]
  },
  {
   "cell_type": "code",
   "execution_count": 152,
   "id": "64fbdc4a",
   "metadata": {},
   "outputs": [
    {
     "data": {
      "text/plain": [
       "'Ernest'"
      ]
     },
     "execution_count": 152,
     "metadata": {},
     "output_type": "execute_result"
    }
   ],
   "source": [
    "\"Ern\" + \"est\""
   ]
  },
  {
   "cell_type": "code",
   "execution_count": 155,
   "id": "2df53cbe",
   "metadata": {},
   "outputs": [
    {
     "data": {
      "text/plain": [
       "\"India's capital is New Delhi.\""
      ]
     },
     "execution_count": 155,
     "metadata": {},
     "output_type": "execute_result"
    }
   ],
   "source": [
    "my_string1"
   ]
  },
  {
   "cell_type": "code",
   "execution_count": 156,
   "id": "6389c8b0",
   "metadata": {},
   "outputs": [
    {
     "data": {
      "text/plain": [
       "'I'"
      ]
     },
     "execution_count": 156,
     "metadata": {},
     "output_type": "execute_result"
    }
   ],
   "source": [
    "my_string1[0]"
   ]
  },
  {
   "cell_type": "code",
   "execution_count": 157,
   "id": "c0068f39",
   "metadata": {},
   "outputs": [
    {
     "data": {
      "text/plain": [
       "\"'\""
      ]
     },
     "execution_count": 157,
     "metadata": {},
     "output_type": "execute_result"
    }
   ],
   "source": [
    "my_string1[5]"
   ]
  },
  {
   "cell_type": "code",
   "execution_count": 158,
   "id": "c0e42f2d",
   "metadata": {},
   "outputs": [
    {
     "data": {
      "text/plain": [
       "'d'"
      ]
     },
     "execution_count": 158,
     "metadata": {},
     "output_type": "execute_result"
    }
   ],
   "source": [
    "my_string1[2]"
   ]
  },
  {
   "cell_type": "code",
   "execution_count": 159,
   "id": "41108bef",
   "metadata": {},
   "outputs": [
    {
     "data": {
      "text/plain": [
       "'i'"
      ]
     },
     "execution_count": 159,
     "metadata": {},
     "output_type": "execute_result"
    }
   ],
   "source": [
    "my_string1[3]"
   ]
  },
  {
   "cell_type": "code",
   "execution_count": 160,
   "id": "0ae809d6",
   "metadata": {},
   "outputs": [
    {
     "data": {
      "text/plain": [
       "'a'"
      ]
     },
     "execution_count": 160,
     "metadata": {},
     "output_type": "execute_result"
    }
   ],
   "source": [
    "my_string1[4]"
   ]
  },
  {
   "cell_type": "code",
   "execution_count": 161,
   "id": "835630c0",
   "metadata": {},
   "outputs": [
    {
     "data": {
      "text/plain": [
       "'dia'"
      ]
     },
     "execution_count": 161,
     "metadata": {},
     "output_type": "execute_result"
    }
   ],
   "source": [
    "my_string1[2:5]"
   ]
  },
  {
   "cell_type": "code",
   "execution_count": 162,
   "id": "9280b65b",
   "metadata": {},
   "outputs": [
    {
     "data": {
      "text/plain": [
       "\"dia's capital is New Delhi.\""
      ]
     },
     "execution_count": 162,
     "metadata": {},
     "output_type": "execute_result"
    }
   ],
   "source": [
    "my_string1[2:]"
   ]
  },
  {
   "cell_type": "code",
   "execution_count": 163,
   "id": "8604b2fa",
   "metadata": {},
   "outputs": [
    {
     "data": {
      "text/plain": [
       "\"India's capital is New Delhi.\""
      ]
     },
     "execution_count": 163,
     "metadata": {},
     "output_type": "execute_result"
    }
   ],
   "source": [
    "my_string1"
   ]
  },
  {
   "cell_type": "code",
   "execution_count": 164,
   "id": "a6cd676e",
   "metadata": {},
   "outputs": [
    {
     "data": {
      "text/plain": [
       "'l'"
      ]
     },
     "execution_count": 164,
     "metadata": {},
     "output_type": "execute_result"
    }
   ],
   "source": [
    "my_string1[25]"
   ]
  },
  {
   "cell_type": "code",
   "execution_count": 165,
   "id": "cd371939",
   "metadata": {},
   "outputs": [
    {
     "data": {
      "text/plain": [
       "'l'"
      ]
     },
     "execution_count": 165,
     "metadata": {},
     "output_type": "execute_result"
    }
   ],
   "source": [
    "my_string1[-4]"
   ]
  },
  {
   "cell_type": "code",
   "execution_count": 166,
   "id": "57bb922c",
   "metadata": {},
   "outputs": [
    {
     "data": {
      "text/plain": [
       "'Delhi.'"
      ]
     },
     "execution_count": 166,
     "metadata": {},
     "output_type": "execute_result"
    }
   ],
   "source": [
    "my_string1[-6:]"
   ]
  },
  {
   "cell_type": "code",
   "execution_count": 167,
   "id": "5fa697f4",
   "metadata": {},
   "outputs": [
    {
     "data": {
      "text/plain": [
       "'Delhi'"
      ]
     },
     "execution_count": 167,
     "metadata": {},
     "output_type": "execute_result"
    }
   ],
   "source": [
    "my_string1[-6:-1]"
   ]
  },
  {
   "cell_type": "code",
   "execution_count": 168,
   "id": "8865b343",
   "metadata": {},
   "outputs": [
    {
     "data": {
      "text/plain": [
       "\"India's capital is New Delhi.\""
      ]
     },
     "execution_count": 168,
     "metadata": {},
     "output_type": "execute_result"
    }
   ],
   "source": [
    "my_string1"
   ]
  },
  {
   "cell_type": "code",
   "execution_count": 169,
   "id": "9299745e",
   "metadata": {},
   "outputs": [
    {
     "data": {
      "text/plain": [
       "''"
      ]
     },
     "execution_count": 169,
     "metadata": {},
     "output_type": "execute_result"
    }
   ],
   "source": [
    "my_string1[-1:-6]"
   ]
  },
  {
   "cell_type": "code",
   "execution_count": 170,
   "id": "0854ee89",
   "metadata": {},
   "outputs": [
    {
     "data": {
      "text/plain": [
       "' '"
      ]
     },
     "execution_count": 170,
     "metadata": {},
     "output_type": "execute_result"
    }
   ],
   "source": [
    "my_string1[7]"
   ]
  },
  {
   "cell_type": "code",
   "execution_count": 171,
   "id": "e529c845",
   "metadata": {},
   "outputs": [
    {
     "data": {
      "text/plain": [
       "\".ihleD weN si latipac s'aidnI\""
      ]
     },
     "execution_count": 171,
     "metadata": {},
     "output_type": "execute_result"
    }
   ],
   "source": [
    "my_string1[::-1]"
   ]
  },
  {
   "cell_type": "code",
   "execution_count": 172,
   "id": "d081bef7",
   "metadata": {},
   "outputs": [
    {
     "data": {
      "text/plain": [
       "29"
      ]
     },
     "execution_count": 172,
     "metadata": {},
     "output_type": "execute_result"
    }
   ],
   "source": [
    "len(my_string1)"
   ]
  },
  {
   "cell_type": "code",
   "execution_count": 173,
   "id": "1ccbf2b4",
   "metadata": {},
   "outputs": [
    {
     "ename": "IndexError",
     "evalue": "string index out of range",
     "output_type": "error",
     "traceback": [
      "\u001b[0;31m---------------------------------------------------------------------------\u001b[0m",
      "\u001b[0;31mIndexError\u001b[0m                                Traceback (most recent call last)",
      "\u001b[0;32m/var/folders/0x/8qbylcs945qcwxhy42nzt0340000gn/T/ipykernel_1108/3648709374.py\u001b[0m in \u001b[0;36m<module>\u001b[0;34m\u001b[0m\n\u001b[0;32m----> 1\u001b[0;31m \u001b[0mmy_string1\u001b[0m\u001b[0;34m[\u001b[0m\u001b[0;36m29\u001b[0m\u001b[0;34m]\u001b[0m\u001b[0;34m\u001b[0m\u001b[0;34m\u001b[0m\u001b[0m\n\u001b[0m",
      "\u001b[0;31mIndexError\u001b[0m: string index out of range"
     ]
    }
   ],
   "source": [
    "my_string1[29]"
   ]
  },
  {
   "cell_type": "code",
   "execution_count": 174,
   "id": "21ab1153",
   "metadata": {},
   "outputs": [
    {
     "data": {
      "text/plain": [
       "'.'"
      ]
     },
     "execution_count": 174,
     "metadata": {},
     "output_type": "execute_result"
    }
   ],
   "source": [
    "my_string1[28]"
   ]
  },
  {
   "cell_type": "code",
   "execution_count": 175,
   "id": "ab7283bb",
   "metadata": {},
   "outputs": [
    {
     "data": {
      "text/plain": [
       "'I'"
      ]
     },
     "execution_count": 175,
     "metadata": {},
     "output_type": "execute_result"
    }
   ],
   "source": [
    "my_string1[0]"
   ]
  },
  {
   "cell_type": "code",
   "execution_count": 176,
   "id": "28a6b463",
   "metadata": {},
   "outputs": [
    {
     "ename": "TypeError",
     "evalue": "'str' object does not support item assignment",
     "output_type": "error",
     "traceback": [
      "\u001b[0;31m---------------------------------------------------------------------------\u001b[0m",
      "\u001b[0;31mTypeError\u001b[0m                                 Traceback (most recent call last)",
      "\u001b[0;32m/var/folders/0x/8qbylcs945qcwxhy42nzt0340000gn/T/ipykernel_1108/2538890177.py\u001b[0m in \u001b[0;36m<module>\u001b[0;34m\u001b[0m\n\u001b[0;32m----> 1\u001b[0;31m \u001b[0mmy_string1\u001b[0m\u001b[0;34m[\u001b[0m\u001b[0;36m0\u001b[0m\u001b[0;34m]\u001b[0m \u001b[0;34m=\u001b[0m \u001b[0;34m\"Z\"\u001b[0m\u001b[0;34m\u001b[0m\u001b[0;34m\u001b[0m\u001b[0m\n\u001b[0m",
      "\u001b[0;31mTypeError\u001b[0m: 'str' object does not support item assignment"
     ]
    }
   ],
   "source": [
    "my_string1[0] = \"Z\""
   ]
  },
  {
   "cell_type": "code",
   "execution_count": 177,
   "id": "8fe6a0b8",
   "metadata": {},
   "outputs": [],
   "source": [
    "name = \"Baboon\""
   ]
  },
  {
   "cell_type": "code",
   "execution_count": 178,
   "id": "65693db9",
   "metadata": {},
   "outputs": [
    {
     "data": {
      "text/plain": [
       "'BabZZn'"
      ]
     },
     "execution_count": 178,
     "metadata": {},
     "output_type": "execute_result"
    }
   ],
   "source": [
    "name.replace(\"o\", \"Z\")"
   ]
  },
  {
   "cell_type": "code",
   "execution_count": 179,
   "id": "aa15e7ee",
   "metadata": {},
   "outputs": [
    {
     "name": "stdout",
     "output_type": "stream",
     "text": [
      "Baboon\n"
     ]
    }
   ],
   "source": [
    "print(name)"
   ]
  },
  {
   "cell_type": "code",
   "execution_count": 180,
   "id": "a2a3b4d7",
   "metadata": {},
   "outputs": [],
   "source": [
    "l1 = [1,2,3,4,5]"
   ]
  },
  {
   "cell_type": "code",
   "execution_count": 181,
   "id": "4295608a",
   "metadata": {},
   "outputs": [
    {
     "data": {
      "text/plain": [
       "5"
      ]
     },
     "execution_count": 181,
     "metadata": {},
     "output_type": "execute_result"
    }
   ],
   "source": [
    "len(l1)"
   ]
  },
  {
   "cell_type": "code",
   "execution_count": 185,
   "id": "19637bf0",
   "metadata": {},
   "outputs": [],
   "source": [
    "l2 = my_string1.split()"
   ]
  },
  {
   "cell_type": "code",
   "execution_count": 186,
   "id": "60515b71",
   "metadata": {},
   "outputs": [
    {
     "data": {
      "text/plain": [
       "[\"India's\", 'capital', 'is', 'New', 'Delhi.']"
      ]
     },
     "execution_count": 186,
     "metadata": {},
     "output_type": "execute_result"
    }
   ],
   "source": [
    "l2"
   ]
  },
  {
   "cell_type": "code",
   "execution_count": 187,
   "id": "32820d22",
   "metadata": {},
   "outputs": [
    {
     "data": {
      "text/plain": [
       "list"
      ]
     },
     "execution_count": 187,
     "metadata": {},
     "output_type": "execute_result"
    }
   ],
   "source": [
    "type(l2)"
   ]
  },
  {
   "cell_type": "code",
   "execution_count": 188,
   "id": "83764ed2",
   "metadata": {},
   "outputs": [
    {
     "data": {
      "text/plain": [
       "[1, 2, 3, 4, 5]"
      ]
     },
     "execution_count": 188,
     "metadata": {},
     "output_type": "execute_result"
    }
   ],
   "source": [
    "l1"
   ]
  },
  {
   "cell_type": "code",
   "execution_count": 189,
   "id": "5243edce",
   "metadata": {},
   "outputs": [
    {
     "data": {
      "text/plain": [
       "3"
      ]
     },
     "execution_count": 189,
     "metadata": {},
     "output_type": "execute_result"
    }
   ],
   "source": [
    "l1[2]"
   ]
  },
  {
   "cell_type": "code",
   "execution_count": 190,
   "id": "4f213446",
   "metadata": {},
   "outputs": [
    {
     "data": {
      "text/plain": [
       "[3, 4, 5]"
      ]
     },
     "execution_count": 190,
     "metadata": {},
     "output_type": "execute_result"
    }
   ],
   "source": [
    "l1[2:]"
   ]
  },
  {
   "cell_type": "code",
   "execution_count": 191,
   "id": "e3abb600",
   "metadata": {},
   "outputs": [],
   "source": [
    "l3 = [\"a\", -1, 3.42, 5+4j, False, [1,2,3], l1]"
   ]
  },
  {
   "cell_type": "code",
   "execution_count": 192,
   "id": "0ba98ab1",
   "metadata": {},
   "outputs": [
    {
     "data": {
      "text/plain": [
       "7"
      ]
     },
     "execution_count": 192,
     "metadata": {},
     "output_type": "execute_result"
    }
   ],
   "source": [
    "len(l3)"
   ]
  },
  {
   "cell_type": "code",
   "execution_count": 193,
   "id": "4b254577",
   "metadata": {},
   "outputs": [
    {
     "data": {
      "text/plain": [
       "[1, 2, 3]"
      ]
     },
     "execution_count": 193,
     "metadata": {},
     "output_type": "execute_result"
    }
   ],
   "source": [
    "l3[5]"
   ]
  },
  {
   "cell_type": "code",
   "execution_count": 194,
   "id": "625fe6f2",
   "metadata": {},
   "outputs": [
    {
     "data": {
      "text/plain": [
       "3"
      ]
     },
     "execution_count": 194,
     "metadata": {},
     "output_type": "execute_result"
    }
   ],
   "source": [
    "l3[5][2]"
   ]
  },
  {
   "cell_type": "code",
   "execution_count": 195,
   "id": "610f60f8",
   "metadata": {},
   "outputs": [],
   "source": [
    "l3 = [\"a\", -1, 3.42, 5+4j, False, [1,2,3, l2], l1]"
   ]
  },
  {
   "cell_type": "code",
   "execution_count": 197,
   "id": "bf34146b",
   "metadata": {},
   "outputs": [
    {
     "data": {
      "text/plain": [
       "[1, 2, 3, [\"India's\", 'capital', 'is', 'New', 'Delhi.']]"
      ]
     },
     "execution_count": 197,
     "metadata": {},
     "output_type": "execute_result"
    }
   ],
   "source": [
    "l3[5]"
   ]
  },
  {
   "cell_type": "code",
   "execution_count": 199,
   "id": "d1085820",
   "metadata": {},
   "outputs": [
    {
     "data": {
      "text/plain": [
       "['a',\n",
       " -1,\n",
       " 3.42,\n",
       " (5+4j),\n",
       " False,\n",
       " [1, 2, 3, [\"India's\", 'capital', 'is', 'New', 'Delhi.']],\n",
       " [1, 2, 3, 4, 5]]"
      ]
     },
     "execution_count": 199,
     "metadata": {},
     "output_type": "execute_result"
    }
   ],
   "source": [
    "l3"
   ]
  },
  {
   "cell_type": "code",
   "execution_count": 198,
   "id": "a6132fb9",
   "metadata": {},
   "outputs": [
    {
     "data": {
      "text/plain": [
       "'is'"
      ]
     },
     "execution_count": 198,
     "metadata": {},
     "output_type": "execute_result"
    }
   ],
   "source": [
    "l3[5][3][2]"
   ]
  },
  {
   "cell_type": "code",
   "execution_count": 200,
   "id": "f5afb4d9",
   "metadata": {},
   "outputs": [
    {
     "data": {
      "text/plain": [
       "[1, 2, 3, 4, 5]"
      ]
     },
     "execution_count": 200,
     "metadata": {},
     "output_type": "execute_result"
    }
   ],
   "source": [
    "l1"
   ]
  },
  {
   "cell_type": "code",
   "execution_count": 201,
   "id": "1ab9ef6a",
   "metadata": {},
   "outputs": [],
   "source": [
    "l1.append(6)"
   ]
  },
  {
   "cell_type": "code",
   "execution_count": 202,
   "id": "09a88d82",
   "metadata": {},
   "outputs": [
    {
     "data": {
      "text/plain": [
       "[1, 2, 3, 4, 5, 6]"
      ]
     },
     "execution_count": 202,
     "metadata": {},
     "output_type": "execute_result"
    }
   ],
   "source": [
    "l1"
   ]
  },
  {
   "cell_type": "code",
   "execution_count": 203,
   "id": "715c207f",
   "metadata": {},
   "outputs": [
    {
     "data": {
      "text/plain": [
       "['a',\n",
       " -1,\n",
       " 3.42,\n",
       " (5+4j),\n",
       " False,\n",
       " [1, 2, 3, [\"India's\", 'capital', 'is', 'New', 'Delhi.']],\n",
       " [1, 2, 3, 4, 5, 6]]"
      ]
     },
     "execution_count": 203,
     "metadata": {},
     "output_type": "execute_result"
    }
   ],
   "source": [
    "l3"
   ]
  },
  {
   "cell_type": "code",
   "execution_count": 204,
   "id": "afd5f2fe",
   "metadata": {},
   "outputs": [
    {
     "data": {
      "text/plain": [
       "[1, 2, 3, 4, 5, 6]"
      ]
     },
     "execution_count": 204,
     "metadata": {},
     "output_type": "execute_result"
    }
   ],
   "source": [
    "l1"
   ]
  },
  {
   "cell_type": "code",
   "execution_count": 205,
   "id": "3c7e8896",
   "metadata": {},
   "outputs": [],
   "source": [
    "l4 = l1"
   ]
  },
  {
   "cell_type": "code",
   "execution_count": 206,
   "id": "8d63d029",
   "metadata": {},
   "outputs": [],
   "source": [
    "l4.append(7)"
   ]
  },
  {
   "cell_type": "code",
   "execution_count": 207,
   "id": "4bf2a584",
   "metadata": {},
   "outputs": [
    {
     "data": {
      "text/plain": [
       "[1, 2, 3, 4, 5, 6, 7]"
      ]
     },
     "execution_count": 207,
     "metadata": {},
     "output_type": "execute_result"
    }
   ],
   "source": [
    "l1"
   ]
  },
  {
   "cell_type": "code",
   "execution_count": 208,
   "id": "c94ed260",
   "metadata": {},
   "outputs": [
    {
     "data": {
      "text/plain": [
       "['a',\n",
       " -1,\n",
       " 3.42,\n",
       " (5+4j),\n",
       " False,\n",
       " [1, 2, 3, [\"India's\", 'capital', 'is', 'New', 'Delhi.']],\n",
       " [1, 2, 3, 4, 5, 6, 7]]"
      ]
     },
     "execution_count": 208,
     "metadata": {},
     "output_type": "execute_result"
    }
   ],
   "source": [
    "l3"
   ]
  },
  {
   "cell_type": "code",
   "execution_count": 209,
   "id": "02a22566",
   "metadata": {},
   "outputs": [],
   "source": [
    "l5 = l1.copy()"
   ]
  },
  {
   "cell_type": "code",
   "execution_count": 210,
   "id": "c7b7e79f",
   "metadata": {},
   "outputs": [
    {
     "data": {
      "text/plain": [
       "[1, 2, 3, 4, 5, 6, 7]"
      ]
     },
     "execution_count": 210,
     "metadata": {},
     "output_type": "execute_result"
    }
   ],
   "source": [
    "l5"
   ]
  },
  {
   "cell_type": "code",
   "execution_count": 211,
   "id": "43f8b2a8",
   "metadata": {},
   "outputs": [],
   "source": [
    "l5.append(8)"
   ]
  },
  {
   "cell_type": "code",
   "execution_count": 212,
   "id": "58e75569",
   "metadata": {},
   "outputs": [
    {
     "data": {
      "text/plain": [
       "[1, 2, 3, 4, 5, 6, 7, 8]"
      ]
     },
     "execution_count": 212,
     "metadata": {},
     "output_type": "execute_result"
    }
   ],
   "source": [
    "l5"
   ]
  },
  {
   "cell_type": "code",
   "execution_count": 213,
   "id": "aedd10a1",
   "metadata": {},
   "outputs": [
    {
     "data": {
      "text/plain": [
       "[1, 2, 3, 4, 5, 6, 7]"
      ]
     },
     "execution_count": 213,
     "metadata": {},
     "output_type": "execute_result"
    }
   ],
   "source": [
    "l1"
   ]
  },
  {
   "cell_type": "code",
   "execution_count": 214,
   "id": "d4551ee7",
   "metadata": {},
   "outputs": [],
   "source": [
    "l1.clear()"
   ]
  },
  {
   "cell_type": "code",
   "execution_count": 215,
   "id": "d9b1ba9a",
   "metadata": {},
   "outputs": [
    {
     "data": {
      "text/plain": [
       "[]"
      ]
     },
     "execution_count": 215,
     "metadata": {},
     "output_type": "execute_result"
    }
   ],
   "source": [
    "l1"
   ]
  },
  {
   "cell_type": "code",
   "execution_count": 216,
   "id": "6bcefaf6",
   "metadata": {},
   "outputs": [
    {
     "data": {
      "text/plain": [
       "['a',\n",
       " -1,\n",
       " 3.42,\n",
       " (5+4j),\n",
       " False,\n",
       " [1, 2, 3, [\"India's\", 'capital', 'is', 'New', 'Delhi.']],\n",
       " []]"
      ]
     },
     "execution_count": 216,
     "metadata": {},
     "output_type": "execute_result"
    }
   ],
   "source": [
    "l3"
   ]
  },
  {
   "cell_type": "code",
   "execution_count": 217,
   "id": "d17f083b",
   "metadata": {},
   "outputs": [],
   "source": [
    "l1 = [1,2,3,4,5,6,7]"
   ]
  },
  {
   "cell_type": "code",
   "execution_count": 218,
   "id": "10be833c",
   "metadata": {},
   "outputs": [
    {
     "data": {
      "text/plain": [
       "1"
      ]
     },
     "execution_count": 218,
     "metadata": {},
     "output_type": "execute_result"
    }
   ],
   "source": [
    "l1.count(2)"
   ]
  },
  {
   "cell_type": "code",
   "execution_count": 219,
   "id": "35d53e7c",
   "metadata": {},
   "outputs": [],
   "source": [
    "l1.append(2)"
   ]
  },
  {
   "cell_type": "code",
   "execution_count": 220,
   "id": "4cc17ab0",
   "metadata": {},
   "outputs": [
    {
     "data": {
      "text/plain": [
       "[1, 2, 3, 4, 5, 6, 7, 2]"
      ]
     },
     "execution_count": 220,
     "metadata": {},
     "output_type": "execute_result"
    }
   ],
   "source": [
    "l1"
   ]
  },
  {
   "cell_type": "code",
   "execution_count": 221,
   "id": "54fec0e8",
   "metadata": {},
   "outputs": [
    {
     "data": {
      "text/plain": [
       "2"
      ]
     },
     "execution_count": 221,
     "metadata": {},
     "output_type": "execute_result"
    }
   ],
   "source": [
    "l1.count(2)"
   ]
  },
  {
   "cell_type": "code",
   "execution_count": 222,
   "id": "c498eed5",
   "metadata": {},
   "outputs": [],
   "source": [
    "l1.extend([8,7,6])"
   ]
  },
  {
   "cell_type": "code",
   "execution_count": 223,
   "id": "b01d28a9",
   "metadata": {},
   "outputs": [
    {
     "data": {
      "text/plain": [
       "[1, 2, 3, 4, 5, 6, 7, 2, 8, 7, 6]"
      ]
     },
     "execution_count": 223,
     "metadata": {},
     "output_type": "execute_result"
    }
   ],
   "source": [
    "l1"
   ]
  },
  {
   "cell_type": "code",
   "execution_count": 224,
   "id": "ffbc99e2",
   "metadata": {},
   "outputs": [
    {
     "data": {
      "text/plain": [
       "[1, 2, 3, 4, 5, 6, 7, 2, 8, 7, 6, 1, 2, 3]"
      ]
     },
     "execution_count": 224,
     "metadata": {},
     "output_type": "execute_result"
    }
   ],
   "source": [
    "l1 + [1,2,3]"
   ]
  },
  {
   "cell_type": "code",
   "execution_count": 225,
   "id": "a61ddca3",
   "metadata": {},
   "outputs": [
    {
     "data": {
      "text/plain": [
       "[1, 2, 3, 4, 5, 6, 7, 2, 8, 7, 6]"
      ]
     },
     "execution_count": 225,
     "metadata": {},
     "output_type": "execute_result"
    }
   ],
   "source": [
    "l1"
   ]
  },
  {
   "cell_type": "code",
   "execution_count": 226,
   "id": "337e7f20",
   "metadata": {},
   "outputs": [],
   "source": [
    "l1 = l1 + [1,2,3]"
   ]
  },
  {
   "cell_type": "code",
   "execution_count": 227,
   "id": "a099d5fe",
   "metadata": {},
   "outputs": [
    {
     "data": {
      "text/plain": [
       "[1, 2, 3, 4, 5, 6, 7, 2, 8, 7, 6, 1, 2, 3]"
      ]
     },
     "execution_count": 227,
     "metadata": {},
     "output_type": "execute_result"
    }
   ],
   "source": [
    "l1"
   ]
  },
  {
   "cell_type": "code",
   "execution_count": 230,
   "id": "819ec6ed",
   "metadata": {},
   "outputs": [
    {
     "data": {
      "text/plain": [
       "[1, 2, 3, 4, 5, 6, 7, 8]"
      ]
     },
     "execution_count": 230,
     "metadata": {},
     "output_type": "execute_result"
    }
   ],
   "source": [
    "l5"
   ]
  },
  {
   "cell_type": "code",
   "execution_count": 231,
   "id": "ca1ed5da",
   "metadata": {},
   "outputs": [],
   "source": [
    "l5.append([1,2,4])"
   ]
  },
  {
   "cell_type": "code",
   "execution_count": 232,
   "id": "7b8d0c73",
   "metadata": {},
   "outputs": [
    {
     "data": {
      "text/plain": [
       "[1, 2, 3, 4, 5, 6, 7, 8, [1, 2, 4]]"
      ]
     },
     "execution_count": 232,
     "metadata": {},
     "output_type": "execute_result"
    }
   ],
   "source": [
    "l5"
   ]
  },
  {
   "cell_type": "code",
   "execution_count": 233,
   "id": "6602b213",
   "metadata": {},
   "outputs": [
    {
     "ename": "TypeError",
     "evalue": "list.append() takes exactly one argument (3 given)",
     "output_type": "error",
     "traceback": [
      "\u001b[0;31m---------------------------------------------------------------------------\u001b[0m",
      "\u001b[0;31mTypeError\u001b[0m                                 Traceback (most recent call last)",
      "\u001b[0;32m/var/folders/0x/8qbylcs945qcwxhy42nzt0340000gn/T/ipykernel_1108/3233848367.py\u001b[0m in \u001b[0;36m<module>\u001b[0;34m\u001b[0m\n\u001b[0;32m----> 1\u001b[0;31m \u001b[0ml5\u001b[0m\u001b[0;34m.\u001b[0m\u001b[0mappend\u001b[0m\u001b[0;34m(\u001b[0m\u001b[0;36m1\u001b[0m\u001b[0;34m,\u001b[0m\u001b[0;36m2\u001b[0m\u001b[0;34m,\u001b[0m\u001b[0;36m4\u001b[0m\u001b[0;34m)\u001b[0m\u001b[0;34m\u001b[0m\u001b[0;34m\u001b[0m\u001b[0m\n\u001b[0m",
      "\u001b[0;31mTypeError\u001b[0m: list.append() takes exactly one argument (3 given)"
     ]
    }
   ],
   "source": [
    "l5.append(1,2,4)"
   ]
  },
  {
   "cell_type": "code",
   "execution_count": 234,
   "id": "bf2399f8",
   "metadata": {},
   "outputs": [
    {
     "data": {
      "text/plain": [
       "6"
      ]
     },
     "execution_count": 234,
     "metadata": {},
     "output_type": "execute_result"
    }
   ],
   "source": [
    "l1.index(7)"
   ]
  },
  {
   "cell_type": "code",
   "execution_count": 235,
   "id": "36504d05",
   "metadata": {},
   "outputs": [
    {
     "data": {
      "text/plain": [
       "[1, 2, 3, 4, 5, 6, 7, 2, 8, 7, 6, 1, 2, 3]"
      ]
     },
     "execution_count": 235,
     "metadata": {},
     "output_type": "execute_result"
    }
   ],
   "source": [
    "l1"
   ]
  },
  {
   "cell_type": "code",
   "execution_count": 236,
   "id": "e6c6decb",
   "metadata": {},
   "outputs": [
    {
     "data": {
      "text/plain": [
       "8"
      ]
     },
     "execution_count": 236,
     "metadata": {},
     "output_type": "execute_result"
    }
   ],
   "source": [
    "l1.index(8)"
   ]
  },
  {
   "cell_type": "code",
   "execution_count": 237,
   "id": "ddc6fb79",
   "metadata": {},
   "outputs": [],
   "source": [
    "l1.insert(1, -11)"
   ]
  },
  {
   "cell_type": "code",
   "execution_count": 238,
   "id": "790cdd6d",
   "metadata": {},
   "outputs": [
    {
     "data": {
      "text/plain": [
       "[1, -11, 2, 3, 4, 5, 6, 7, 2, 8, 7, 6, 1, 2, 3]"
      ]
     },
     "execution_count": 238,
     "metadata": {},
     "output_type": "execute_result"
    }
   ],
   "source": [
    "l1"
   ]
  },
  {
   "cell_type": "code",
   "execution_count": 239,
   "id": "576f3965",
   "metadata": {},
   "outputs": [
    {
     "data": {
      "text/plain": [
       "3"
      ]
     },
     "execution_count": 239,
     "metadata": {},
     "output_type": "execute_result"
    }
   ],
   "source": [
    "l1.pop()"
   ]
  },
  {
   "cell_type": "code",
   "execution_count": 240,
   "id": "1992f2b2",
   "metadata": {},
   "outputs": [
    {
     "data": {
      "text/plain": [
       "[1, -11, 2, 3, 4, 5, 6, 7, 2, 8, 7, 6, 1, 2]"
      ]
     },
     "execution_count": 240,
     "metadata": {},
     "output_type": "execute_result"
    }
   ],
   "source": [
    "l1"
   ]
  },
  {
   "cell_type": "code",
   "execution_count": 241,
   "id": "4bc5517d",
   "metadata": {},
   "outputs": [],
   "source": [
    "l1.remove(7)"
   ]
  },
  {
   "cell_type": "code",
   "execution_count": 242,
   "id": "8accd362",
   "metadata": {},
   "outputs": [
    {
     "data": {
      "text/plain": [
       "[1, -11, 2, 3, 4, 5, 6, 2, 8, 7, 6, 1, 2]"
      ]
     },
     "execution_count": 242,
     "metadata": {},
     "output_type": "execute_result"
    }
   ],
   "source": [
    "l1"
   ]
  },
  {
   "cell_type": "code",
   "execution_count": 243,
   "id": "76321e29",
   "metadata": {},
   "outputs": [],
   "source": [
    "l1.reverse()"
   ]
  },
  {
   "cell_type": "code",
   "execution_count": 244,
   "id": "3bdcaaa4",
   "metadata": {},
   "outputs": [
    {
     "data": {
      "text/plain": [
       "[2, 1, 6, 7, 8, 2, 6, 5, 4, 3, 2, -11, 1]"
      ]
     },
     "execution_count": 244,
     "metadata": {},
     "output_type": "execute_result"
    }
   ],
   "source": [
    "l1"
   ]
  },
  {
   "cell_type": "code",
   "execution_count": 245,
   "id": "aa7c5ca5",
   "metadata": {},
   "outputs": [
    {
     "data": {
      "text/plain": [
       "[1, -11, 2, 3, 4, 5, 6, 2, 8, 7, 6, 1, 2]"
      ]
     },
     "execution_count": 245,
     "metadata": {},
     "output_type": "execute_result"
    }
   ],
   "source": [
    "l1[::-1]"
   ]
  },
  {
   "cell_type": "code",
   "execution_count": 246,
   "id": "79d2b79f",
   "metadata": {},
   "outputs": [
    {
     "data": {
      "text/plain": [
       "[2, 1, 6, 7, 8, 2, 6, 5, 4, 3, 2, -11, 1]"
      ]
     },
     "execution_count": 246,
     "metadata": {},
     "output_type": "execute_result"
    }
   ],
   "source": [
    "l1"
   ]
  },
  {
   "cell_type": "code",
   "execution_count": 247,
   "id": "ce4e7265",
   "metadata": {},
   "outputs": [],
   "source": [
    "l1.sort()"
   ]
  },
  {
   "cell_type": "code",
   "execution_count": 248,
   "id": "01f6a1d8",
   "metadata": {},
   "outputs": [
    {
     "data": {
      "text/plain": [
       "[-11, 1, 1, 2, 2, 2, 3, 4, 5, 6, 6, 7, 8]"
      ]
     },
     "execution_count": 248,
     "metadata": {},
     "output_type": "execute_result"
    }
   ],
   "source": [
    "l1"
   ]
  },
  {
   "cell_type": "code",
   "execution_count": 249,
   "id": "040389e7",
   "metadata": {},
   "outputs": [],
   "source": [
    "l1.sort(reverse=True)"
   ]
  },
  {
   "cell_type": "code",
   "execution_count": 251,
   "id": "16da156c",
   "metadata": {},
   "outputs": [
    {
     "data": {
      "text/plain": [
       "8"
      ]
     },
     "execution_count": 251,
     "metadata": {},
     "output_type": "execute_result"
    }
   ],
   "source": [
    "max(l1)"
   ]
  },
  {
   "cell_type": "code",
   "execution_count": 252,
   "id": "b4ea93bf",
   "metadata": {},
   "outputs": [
    {
     "data": {
      "text/plain": [
       "-11"
      ]
     },
     "execution_count": 252,
     "metadata": {},
     "output_type": "execute_result"
    }
   ],
   "source": [
    "min(l1)"
   ]
  },
  {
   "cell_type": "code",
   "execution_count": 253,
   "id": "0828c07f",
   "metadata": {},
   "outputs": [
    {
     "data": {
      "text/plain": [
       "[8, 7, 6, 6, 5, 4, 3, 2, 2, 2, 1, 1, -11]"
      ]
     },
     "execution_count": 253,
     "metadata": {},
     "output_type": "execute_result"
    }
   ],
   "source": [
    "l1"
   ]
  },
  {
   "cell_type": "code",
   "execution_count": 254,
   "id": "35c7e260",
   "metadata": {},
   "outputs": [],
   "source": [
    "l1[1] = 77"
   ]
  },
  {
   "cell_type": "code",
   "execution_count": 255,
   "id": "cae0e4fb",
   "metadata": {},
   "outputs": [
    {
     "data": {
      "text/plain": [
       "[8, 77, 6, 6, 5, 4, 3, 2, 2, 2, 1, 1, -11]"
      ]
     },
     "execution_count": 255,
     "metadata": {},
     "output_type": "execute_result"
    }
   ],
   "source": [
    "l1"
   ]
  },
  {
   "cell_type": "code",
   "execution_count": 256,
   "id": "27bfb374",
   "metadata": {},
   "outputs": [
    {
     "ename": "TypeError",
     "evalue": "'str' object does not support item assignment",
     "output_type": "error",
     "traceback": [
      "\u001b[0;31m---------------------------------------------------------------------------\u001b[0m",
      "\u001b[0;31mTypeError\u001b[0m                                 Traceback (most recent call last)",
      "\u001b[0;32m/var/folders/0x/8qbylcs945qcwxhy42nzt0340000gn/T/ipykernel_1108/3164746079.py\u001b[0m in \u001b[0;36m<module>\u001b[0;34m\u001b[0m\n\u001b[0;32m----> 1\u001b[0;31m \u001b[0;34m\"Ernest\"\u001b[0m\u001b[0;34m[\u001b[0m\u001b[0;36m0\u001b[0m\u001b[0;34m]\u001b[0m \u001b[0;34m=\u001b[0m \u001b[0;34m\"Z\"\u001b[0m\u001b[0;34m\u001b[0m\u001b[0;34m\u001b[0m\u001b[0m\n\u001b[0m",
      "\u001b[0;31mTypeError\u001b[0m: 'str' object does not support item assignment"
     ]
    }
   ],
   "source": [
    "\"Ernest\"[0] = \"Z\""
   ]
  },
  {
   "cell_type": "code",
   "execution_count": 258,
   "id": "a23de606",
   "metadata": {},
   "outputs": [
    {
     "data": {
      "text/plain": [
       "[8, 77, 6, 6, 5, 4, 3, 2, 2, 2, 1, 1, -11]"
      ]
     },
     "execution_count": 258,
     "metadata": {},
     "output_type": "execute_result"
    }
   ],
   "source": [
    "l1"
   ]
  },
  {
   "cell_type": "code",
   "execution_count": 259,
   "id": "1a7330ee",
   "metadata": {},
   "outputs": [
    {
     "name": "stdout",
     "output_type": "stream",
     "text": [
      "8\n",
      "77\n",
      "6\n",
      "6\n",
      "5\n",
      "4\n",
      "3\n",
      "2\n",
      "2\n",
      "2\n",
      "1\n",
      "1\n",
      "-11\n"
     ]
    }
   ],
   "source": [
    "for i in l1:\n",
    "    print(i)"
   ]
  },
  {
   "cell_type": "code",
   "execution_count": 260,
   "id": "f18079c1",
   "metadata": {},
   "outputs": [
    {
     "name": "stdout",
     "output_type": "stream",
     "text": [
      "8\n",
      "77\n",
      "6\n",
      "6\n",
      "5\n",
      "4\n",
      "3\n",
      "2\n",
      "2\n",
      "2\n",
      "1\n",
      "1\n",
      "-11\n"
     ]
    }
   ],
   "source": [
    "for elem in l1:\n",
    "    print(elem)"
   ]
  },
  {
   "cell_type": "code",
   "execution_count": 262,
   "id": "dbe46ed2",
   "metadata": {},
   "outputs": [
    {
     "data": {
      "text/plain": [
       "[8, 77, 6, 6, 5, 4, 3, 2, 2, 2, 1, 1, -11]"
      ]
     },
     "execution_count": 262,
     "metadata": {},
     "output_type": "execute_result"
    }
   ],
   "source": [
    "l1"
   ]
  },
  {
   "cell_type": "code",
   "execution_count": 264,
   "id": "5615c59e",
   "metadata": {},
   "outputs": [],
   "source": [
    "l2 = []\n",
    "for i in l1:\n",
    "    l2.append(i+2)"
   ]
  },
  {
   "cell_type": "code",
   "execution_count": 265,
   "id": "9e3aeb01",
   "metadata": {},
   "outputs": [
    {
     "data": {
      "text/plain": [
       "[10, 79, 8, 8, 7, 6, 5, 4, 4, 4, 3, 3, -9]"
      ]
     },
     "execution_count": 265,
     "metadata": {},
     "output_type": "execute_result"
    }
   ],
   "source": [
    "l2"
   ]
  },
  {
   "cell_type": "code",
   "execution_count": 267,
   "id": "453e3814",
   "metadata": {},
   "outputs": [
    {
     "data": {
      "text/plain": [
       "[10, 79, 8, 8, 7, 6, 5, 4, 4, 4, 3, 3, -9]"
      ]
     },
     "execution_count": 267,
     "metadata": {},
     "output_type": "execute_result"
    }
   ],
   "source": [
    "[i+2 for i in l1]"
   ]
  },
  {
   "cell_type": "code",
   "execution_count": 268,
   "id": "a1a54b50",
   "metadata": {},
   "outputs": [],
   "source": [
    "l3 = [i+2 for i in l1]"
   ]
  },
  {
   "cell_type": "code",
   "execution_count": 269,
   "id": "715e8f41",
   "metadata": {},
   "outputs": [
    {
     "data": {
      "text/plain": [
       "[10, 79, 8, 8, 7, 6, 5, 4, 4, 4, 3, 3, -9]"
      ]
     },
     "execution_count": 269,
     "metadata": {},
     "output_type": "execute_result"
    }
   ],
   "source": [
    "l3"
   ]
  },
  {
   "cell_type": "code",
   "execution_count": null,
   "id": "50c27d89",
   "metadata": {},
   "outputs": [],
   "source": []
  }
 ],
 "metadata": {
  "kernelspec": {
   "display_name": "Python 3 (ipykernel)",
   "language": "python",
   "name": "python3"
  },
  "language_info": {
   "codemirror_mode": {
    "name": "ipython",
    "version": 3
   },
   "file_extension": ".py",
   "mimetype": "text/x-python",
   "name": "python",
   "nbconvert_exporter": "python",
   "pygments_lexer": "ipython3",
   "version": "3.9.7"
  }
 },
 "nbformat": 4,
 "nbformat_minor": 5
}
